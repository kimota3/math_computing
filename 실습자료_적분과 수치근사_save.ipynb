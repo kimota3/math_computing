{
 "cells": [
  {
   "cell_type": "markdown",
   "id": "9891f131",
   "metadata": {},
   "source": [
    "#  Python 이용하여 적분하기"
   ]
  },
  {
   "cell_type": "markdown",
   "id": "cfbe2ac9",
   "metadata": {},
   "source": [
    "##  sympy. integrate 이용하기"
   ]
  },
  {
   "cell_type": "code",
   "execution_count": 22,
   "id": "9c9a65dd",
   "metadata": {},
   "outputs": [
    {
     "name": "stdout",
     "output_type": "stream",
     "text": [
      "-cos(x)\n",
      "-cos(x)\n",
      "2\n",
      "0.810099434941001\n"
     ]
    }
   ],
   "source": [
    "import sympy as sp\n",
    "x=sp.symbols('x')\n",
    "fx=sp.sin(x)\n",
    "a1= sp.integrate(fx)\n",
    "a2= sp.integrate(fx)\n",
    "b1= sp.integrate(fx,(x,0,sp.pi))\n",
    "b2= sp.integrate(fx, (x,0.2, 1.4))\n",
    "\n",
    "print(a1)\n",
    "print(a2)\n",
    "print(b1)                         \n",
    "print(b2)"
   ]
  },
  {
   "cell_type": "markdown",
   "id": "d2a9dae6",
   "metadata": {},
   "source": [
    "## 수치 적분"
   ]
  },
  {
   "cell_type": "markdown",
   "id": "8d297c4c",
   "metadata": {},
   "source": [
    "### 왼쪽/오른쪽/중간값 공식\n",
    "\n",
    "정적분 정의에서 구간을 $n$ 등분하면 모든 $k$에 대하여 $\\Delta x_k=\\frac{b-a}{n}$이므로\n",
    " \n",
    "\\begin{eqnarray*}\n",
    "\\int_{a}^{b} f(x) dx & := & \\lim _{\\mid P_{n} \\mid \\rightarrow 0} \\sum_{k=1}^{n} f\\left(x_{k}^{*}\\right) \\Delta x_{k}\n",
    "                                =  \\lim _{n \\rightarrow \\infty} \\sum_{k=1}^{n} f\\left(x_{k}^{*}\\right) \\frac{b-a}{n}\\\\\n",
    "                                & \\approx &  \\sum_{k=1}^{n} f\\left(x_{k}^{*}\\right) \\frac{b-a}{n}.\n",
    "\\end{eqnarray*}\n",
    "\n",
    "여기서 $x_{k}^{*}$의 선택에 따른 다음 세 가지의 정적분 근사값을 구하는 방법이 있다. \n",
    "\n",
    "\n",
    "- $x_{k}^{*} = x_{k-1}$   $\\rightsquigarrow$ 왼쪽 끝점 공식\n",
    "- $x_{k}^{*} = x_{k}  $   $\\rightsquigarrow$ 오른쪽 끝점 공식\n",
    "- $x_{k}^{*} = \\frac{1}{2}\\left(x_{k-1}+x_{k}\\right)$   $\\rightsquigarrow$ 중간값 공식\n",
    "\n",
    "<img src=\"images/fig_ch2_2_2.png\" width=\"30%\">"
   ]
  },
  {
   "cell_type": "code",
   "execution_count": 1,
   "id": "f7921763",
   "metadata": {},
   "outputs": [
    {
     "name": "stdout",
     "output_type": "stream",
     "text": [
      "0.7471401317785985\n",
      "0.7465080112197698\n",
      "0.746824163469049\n"
     ]
    }
   ],
   "source": [
    "import numpy as np\n",
    "\n",
    "def f(x):\n",
    "    return np.exp(-x**2)\n",
    "\n",
    "\n",
    "def integsuml(a,b,n):  --------------------- (1)\n",
    "    sum=0.0\n",
    "    x=np.linspace(a,b,n+1)\n",
    "    h=x[1]-x[0]\n",
    "    for i in range(np.size(x)-1):\n",
    "        sum=sum+f(x[i])\n",
    "    return sum*h\n",
    "\n",
    "def integsumr(a,b,n):  ---------------------(2)\n",
    "    sum=0.0\n",
    "    x=np.linspace(a,b,n+1)\n",
    "    h=x[1]-x[0]\n",
    "    for i in range(np.size(x)-1):\n",
    "        sum=sum+f(x[i+1])\n",
    "    return sum*h\n",
    "\n",
    "def integsumc(a,b,n):    #중간점 공식   \n",
    "    sum=0.0\n",
    "    x=np.linspace(a,b,n+1)\n",
    "    h=x[1]-x[0]\n",
    "    for i in range(np.size(x)-1):\n",
    "        sum=sum+f((x[i]+x[i+1])/2)\n",
    "    return sum*h\n",
    "\n",
    "aa=integsuml(0,1,1000)\n",
    "bb=integsumr(0,1,1000)\n",
    "cc=integsumc(0,1,1000)\n",
    "\n",
    "print(aa)\n",
    "print(bb)\n",
    "print(cc)"
   ]
  },
  {
   "cell_type": "markdown",
   "id": "a0f323e2",
   "metadata": {},
   "source": [
    "### 사다리꼴 공식\n",
    "\n",
    "구간을 $n$ 등분 하고 점 $\\left(x_{k-1}, f\\left(x_{k-1}\\right)\\right),\\left(x_{k}, f\\left(x_{k}\\right)\\right)$을 직선으로 연결하여 생기는 사다리꼴의 넓이를 합하여 정적분의 근삿값으로 한다.  즉, \n",
    "\n",
    "$$\n",
    "\\int_{a}^{b} f(x) d x \\approx  \\frac{\\Delta x}{2}\\left \\{ f\\left(x_{0}\\right)+2 f\\left(x_{1}\\right)+\\cdots+2 f\\left(x_{n-1}\\right)+f\\left(x_{n}\\right)\\right\\} =: T_{n}\n",
    "$$\n",
    "\n",
    "단, $\\Delta x=\\frac{b-a}{n}$ 이다.\n",
    "\n",
    "<img src=\"images/fig_ch2_2_3 2.png\" width=\"30%\">"
   ]
  },
  {
   "cell_type": "code",
   "execution_count": 2,
   "id": "2af4f2f7",
   "metadata": {
    "scrolled": false
   },
   "outputs": [
    {
     "name": "stdout",
     "output_type": "stream",
     "text": [
      "0.7468071011991205\n"
     ]
    }
   ],
   "source": [
    "def f(x):\n",
    "    return np.exp(-x**2)\n",
    "\n",
    "def integsumT(a,b,n):    #사다리꼴 공식(Trapezoidal rule)\n",
    "    sum=0.0\n",
    "    x=np.linspace(a,b,n+1)\n",
    "    h=x[1]-x[0]\n",
    "    sum=f(a)+f(b)\n",
    "    for i in range(np.size(x)-2):\n",
    "        sum=sum+2*f(x[i+1])\n",
    "    return sum*h/2\n",
    "\n",
    "dd=integsumT(0,1,60)\n",
    "\n",
    "print(dd)"
   ]
  },
  {
   "cell_type": "markdown",
   "id": "e2d40c59",
   "metadata": {},
   "source": [
    "### Simpson 공식\n",
    "\n",
    "\n",
    "구간 $[a, b]$ 를 $2M$  등분한다. 즉,\n",
    "\n",
    "$$\n",
    "a=x_{0}<x_{1}<\\cdots<x_{2 M-1} <x_{2 M}=b.\n",
    "$$\n",
    "\n",
    "\n",
    "$\\left(x_{0}, f\\left(x_{0}\\right)\\right),\\left(x_{1}, f\\left(x_{1}\\right)\\right)$ 및 $\\left(x_{2}, f\\left(x_{2}\\right)\\right)$ 을 지나는 포물선으로 원 함수의 곡선을 대신한다. \n",
    "\n",
    "\n",
    "같은 방법으로 $\\left(x_{2}, f\\left(x_{2}\\right)\\right),\\left(x_{3}, f\\left(x_{3}\\right)\\right)$, $\\left(x_{4}, f\\left(x_{4}\\right)\\right)$을 그 다음 세점 $\\cdots$을 \n",
    "지나는 포물선들을 곡선 대신 사용하여 정적분의 근사값을 구하면\n",
    "\n",
    "$$\n",
    "\\begin{aligned}\n",
    "\\int_{a}^{b} f(x) d x \\approx & \\frac{\\Delta x}{3}\\left[f\\left(x_{0}\\right)+4 f\\left(x_{1}\\right)+2 f\\left(x_{2}\\right)+4 f\\left(x_{3}\\right)\\right.\\\\\n",
    "&\\left.+\\cdots+2 f\\left(x_{n-2}\\right)+4 f\\left(x_{n-1}\\right)+f\\left(x_{n}\\right)\\right]\n",
    "\\end{aligned}\n",
    "$$\n",
    "을 얻는다. 단, $\\Delta x=\\frac{b-a}{2 M}=\\frac{b-a}{n}(n=2 M)$.\n",
    "\n",
    "<img src=\"images/fig_ch2_2_4.png\" width=\"30%\">"
   ]
  },
  {
   "cell_type": "code",
   "execution_count": 3,
   "id": "c47206b4",
   "metadata": {},
   "outputs": [
    {
     "name": "stdout",
     "output_type": "stream",
     "text": [
      "0.7468241334431798\n"
     ]
    }
   ],
   "source": [
    "def f(x):\n",
    "    return np.exp(-x**2)\n",
    "\n",
    "def integsumS(a,b,m):    #심슨 공식(Simpson's rule)\n",
    "    sum=0.0\n",
    "    x=np.linspace(a,b,2*m+1)\n",
    "    h=x[1]-x[0]\n",
    "    sum=f(a)+f(b)\n",
    "    for i in range(1,np.size(x)-1):\n",
    "        if i%2==1:\n",
    "            sum=sum+4*f(x[i])\n",
    "        else:\n",
    "            sum=sum+2*f(x[i])\n",
    "    return sum*h/3\n",
    "\n",
    "ee=integsumS(0,1,30)\n",
    "\n",
    "print(ee)"
   ]
  },
  {
   "cell_type": "code",
   "execution_count": 4,
   "id": "89ba22cb",
   "metadata": {
    "scrolled": false
   },
   "outputs": [
    {
     "name": "stdout",
     "output_type": "stream",
     "text": [
      "0.7468241334431798\n"
     ]
    }
   ],
   "source": [
    "def f(x):\n",
    "    return np.exp(-x**2)\n",
    "\n",
    "def integsumS(a,b,n):    #심슨 공식(Simpson's rule)\n",
    "    sum=0.0\n",
    "    x=np.linspace(a,b,n+1)\n",
    "    h=x[1]-x[0]\n",
    "    sum=f(a)+f(b)\n",
    "    for i in range(1,np.size(x)-1):\n",
    "        if i%2==1:\n",
    "            sum=sum+4*f(x[i])\n",
    "        else:\n",
    "            sum=sum+2*f(x[i])\n",
    "    return sum*h/3\n",
    "\n",
    "ee=integsumS(0,1,60)\n",
    "\n",
    "print(ee)"
   ]
  },
  {
   "cell_type": "code",
   "execution_count": null,
   "id": "57685f27",
   "metadata": {},
   "outputs": [],
   "source": []
  },
  {
   "cell_type": "code",
   "execution_count": null,
   "id": "57b80375",
   "metadata": {},
   "outputs": [],
   "source": []
  },
  {
   "cell_type": "code",
   "execution_count": null,
   "id": "7fa73ab7",
   "metadata": {},
   "outputs": [],
   "source": []
  }
 ],
 "metadata": {
  "kernelspec": {
   "display_name": "Python 3",
   "language": "python",
   "name": "python3"
  },
  "language_info": {
   "codemirror_mode": {
    "name": "ipython",
    "version": 3
   },
   "file_extension": ".py",
   "mimetype": "text/x-python",
   "name": "python",
   "nbconvert_exporter": "python",
   "pygments_lexer": "ipython3",
   "version": "3.8.8"
  }
 },
 "nbformat": 4,
 "nbformat_minor": 5
}
