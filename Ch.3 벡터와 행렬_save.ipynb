{
 "cells": [
  {
   "cell_type": "markdown",
   "metadata": {},
   "source": [
    "내용의 구성은 \"[인공지능을 위한 기초수학](http://matrix.skku.ac.kr/math4ai/Math4AI.pdf/)/[파이썬 데이터 분석](https://codingalzi.github.io/pydata/)/신나는 대학수학\"을 참조한다. "
   ]
  },
  {
   "cell_type": "markdown",
   "metadata": {},
   "source": [
    "- 스칼라(scalar): 길이, 넓이, 질량, 온도 - 크기만 주어지만 완전히 표시되는 양\n",
    "- 벡터(vector): 속도, 위치이동, 힘 - 크기뿐만 아니라 방향까지 지정하지 않으면 완전히 표 현할 수 없는 양\n",
    "- 벡터는 크기와 방향을 갖는 유향선분 - 2차원, 3 차원 공간의 벡터는 화살표로 표현 가능"
   ]
  },
  {
   "cell_type": "markdown",
   "metadata": {},
   "source": [
    "# 벡터"
   ]
  },
  {
   "cell_type": "markdown",
   "metadata": {},
   "source": [
    "#### 정의. [ $n$ 차원 벡터 $(n$-dimensional vector)]\n",
    "\n",
    "$n$ 개의 실수의 순서조 $\\left(x_{1}, x_{2}, \\ldots, x_{n}\\right)$ 을 $n$ 차원 벡터 $(n$-dimensional vector)라 하고\n",
    "$$\n",
    "\\mathbf{x}=\\left(x_{1}, x_{2}, \\ldots, x_{n}\\right)=\\left[\\begin{array}{c}\n",
    "x_{1} \\\\\n",
    "x_{2} \\\\\n",
    "\\vdots \\\\\n",
    "x_{n}\n",
    "\\end{array}\\right]_{n \\times 1}\n",
    "$$\n",
    "로 나타낸다. 이때 실수 $x_{1}, x_{2}, \\ldots, x_{n}$ 을 $\\mathrm{x}$ 의 성분이라 한다.\n",
    "\n",
    "\n",
    "* 벡터의 상등 \n",
    "\n",
    "$\\mathbb{R}^{n}$ 의 벡터\n",
    "$$\n",
    "\\mathbf{x}=\\left[\\begin{array}{c}\n",
    "x_{1} \\\\\n",
    "x_{2} \\\\\n",
    "\\vdots \\\\\n",
    "x_{n}\n",
    "\\end{array}\\right], \\quad \\mathbf{y}=\\left[\\begin{array}{c}\n",
    "y_{1} \\\\\n",
    "y_{2} \\\\\n",
    "\\vdots \\\\\n",
    "y_{n}\n",
    "\\end{array}\\right]\n",
    "$$\n",
    "\n",
    "에 대하여 $x_{i}=y_{i}(i=1,2, \\ldots, n)$ 이면 $\\mathrm{x}=\\mathrm{y}$ 라고 한다."
   ]
  },
  {
   "cell_type": "markdown",
   "metadata": {},
   "source": [
    "##  벡터 덧셈과 뺄셈\n",
    "\n",
    "- 차원이 같은 벡터 두 개의 덧셈은 같은 위치에 있는 항목끼기 더한 결과로 이루어진 벡터를 생성한다."
   ]
  },
  {
   "cell_type": "markdown",
   "metadata": {},
   "source": [
    "$$\n",
    "\\begin{align*}\n",
    "(1, 2) + (2, 1) &= (1+2, 2+1)\n",
    "= (3, 3) \\\\[1ex]\n",
    "(6, 3, 2) + (1, 7, 9) & = (6+1, 3+7, 2+9)\n",
    "= (7, 10, 11)\n",
    "\\end{align*}\n",
    "$$"
   ]
  },
  {
   "cell_type": "markdown",
   "metadata": {},
   "source": [
    "- 벡터 $a$와 벡터 $b$의 합 $a+b$의 의미를 아래 그래프에서처럼 해석할 수 있다."
   ]
  },
  {
   "cell_type": "markdown",
   "metadata": {},
   "source": [
    "![images/VectorAddition.png](images/VectorAddition.png)\n",
    "\n",
    "출처: [위키백과](https://en.wikipedia.org/wiki/Euclidean_vector)"
   ]
  },
  {
   "cell_type": "markdown",
   "metadata": {},
   "source": [
    "\n",
    "- 차원이 같은 벡터 두 개의 덧셈은 같은 위치에 있는 항목끼기 뺀 결과로 이루어진 벡터를 생성한다."
   ]
  },
  {
   "cell_type": "markdown",
   "metadata": {},
   "source": [
    "$$\n",
    "\\begin{align*}\n",
    "(1, 2) - (2, 1) &= (1-2, 2-1) \n",
    "= (-1, 1) \\\\[1ex]\n",
    "(6, 3, 2) - (1, 7, 9) & = (6-1, 3-7, 2-9) \n",
    "= (5, -4, -7)\n",
    "\\end{align*}\n",
    "$$"
   ]
  },
  {
   "cell_type": "markdown",
   "metadata": {},
   "source": [
    "- 벡터 $a$와 벡터 $b$의 합 $a-b$의 의미를 아래 그래프에서처럼 해석할 수 있다."
   ]
  },
  {
   "attachments": {},
   "cell_type": "markdown",
   "metadata": {},
   "source": [
    "![images/vector_subtraction.png](images/vector_subtraction.png)\n",
    "\n",
    "\n",
    "출처: [위키백과](https://en.wikipedia.org/wiki/Euclidean_vector)"
   ]
  },
  {
   "cell_type": "code",
   "execution_count": 169,
   "metadata": {},
   "outputs": [],
   "source": [
    "#<img #src=\"https://raw.githubusercontent.com/codingalzi/pydata/master/notebooks/images/vector_subtraction.png\" #width=\"20%\">\n",
    "\n"
   ]
  },
  {
   "cell_type": "markdown",
   "metadata": {},
   "source": [
    "\n",
    "<img src=\"https://raw.githubusercontent.com/codingalzi/pydata/master/notebooks/images/vector_subtraction.png\" width=\"20%\">\n",
    "\n",
    "%%hide output"
   ]
  },
  {
   "cell_type": "markdown",
   "metadata": {},
   "source": [
    "### 벡터 스칼라 곱셈"
   ]
  },
  {
   "cell_type": "markdown",
   "metadata": {},
   "source": [
    "- 숫자 하나와 벡터의 곱셈을 스칼라 곱셈이라 부른다. \n",
    "\n",
    "- 스칼라 곱셈은 벡터의 각 항목을 지정된 숫자로 곱해 새로운 벡터를 생성한다. "
   ]
  },
  {
   "cell_type": "markdown",
   "metadata": {},
   "source": [
    "$$\n",
    "\\begin{align*}\n",
    "3\\cdot (1, 2) &= (3\\cdot 1, 3\\cdot 2) = (3, 6) \\\\[1ex]\n",
    "2\\cdot (6, 3, 2) & = (2\\cdot 6, 2\\cdot 3, 2\\cdot 2) = (12, 6, 4)\n",
    "\\end{align*}\n",
    "$$"
   ]
  },
  {
   "attachments": {},
   "cell_type": "markdown",
   "metadata": {},
   "source": [
    "- 스칼라 곱셈의 기하적 의미\n",
    "![images/Scalar_mult_2.png](images/Scalar_mult_2.png)\n",
    "\n",
    "<table>\n",
    "<tr>\n",
    "    <td><img src=\"https://raw.githubusercontent.com/codingalzi/pydata/master/notebooks/images/Scalar_mult_2.png\" width=\"50%\"></td>\n",
    "     <td><img src=\"https://raw.githubusercontent.com/codingalzi/pydata/master/notebooks/images/Scalar_mult_2.png\" width=\"50%\"></td>\n",
    "</tr>\n",
    "</table>\n",
    "\n",
    "출처: [위키백과](https://en.wikipedia.org/wiki/Euclidean_vector)"
   ]
  },
  {
   "attachments": {},
   "cell_type": "markdown",
   "metadata": {},
   "source": [
    "![images/Scalar_mult_3.png](images/Scalar_mult_3.png)"
   ]
  },
  {
   "cell_type": "markdown",
   "metadata": {},
   "source": [
    "## 벡터 내적"
   ]
  },
  {
   "cell_type": "markdown",
   "metadata": {},
   "source": [
    "- 차원이 같은 벡터 두 개의 내적은 같은 위치에 있는 항목끼기 곱한 후 모두 더한 값이다.  \n",
    "벡터 $u = (u_1, \\cdots, u_n)$와 벡터 $v = (v_1, \\cdots, v_n)$가 주어졌을 때\n",
    "두 벡터의 내적은 아래와 같다. \n",
    "\n",
    "$$\n",
    "\\begin{align*}\n",
    "u \\cdot v &= \\sum_{i=1}^n u_i\\cdot v_i \\\\\n",
    "&= u_1\\cdot v_1 + \\cdots + u_n\\cdot v_n\n",
    "\\end{align*}\n",
    "$$"
   ]
  },
  {
   "cell_type": "markdown",
   "metadata": {},
   "source": [
    "- 벡터 내적의 기하적 의미\n",
    "\n",
    "두 개의 벡터 $A$와 $B$가 주어졌고, 벡터 $B$의 길이가 1이라고 가정하자.  \n",
    "그러면 내적 $A \\cdot B$는 벡터 $A$가 벡터 $B$ 방향으로 사영되었을 때의 길이를 나타낸다. "
   ]
  },
  {
   "attachments": {},
   "cell_type": "markdown",
   "metadata": {},
   "source": [
    "![images/dot_product.png](images/dot_product.png)\n",
    "\n",
    "<img src=\"https://raw.githubusercontent.com/codingalzi/pydata/master/notebooks/images/dot_product.png\" width=\"20%\">\n",
    "\n",
    "출처: [위키백과](https://en.wikipedia.org/wiki/Dot_product)"
   ]
  },
  {
   "cell_type": "markdown",
   "metadata": {},
   "source": [
    "- 임의의 벡터 $B$에 대한 내적 $A \\cdot B$는 다음과 같다. ($\\theta$ 두 벡터가 이루는 각을 나타낸다.)\n",
    "\n",
    "$$\n",
    "A \\cdot B = \\vert A\\vert\\cdot \\vert B\\vert \\cdot \\cos\\theta\n",
    "$$"
   ]
  },
  {
   "cell_type": "markdown",
   "metadata": {},
   "source": [
    "- 벡터의 크기"
   ]
  },
  {
   "cell_type": "markdown",
   "metadata": {},
   "source": [
    "벡터 $v = (v_1, \\cdots, v_n)$가 주어졌을 때 각 항목별 제곱의 합은 $v$와 $v$ 자신의 내적과 같다.\n",
    "\n",
    "$$v \\cdot v = v_1^2 + \\cdots + v_n^2$$\n",
    "\n",
    "그런데 이 값은 정확하게 벡터 $v$의 크기 $\\vert v\\vert$의 제곱이다. \n",
    "따라서 다음이 성립한다. \n",
    "\n",
    "$$\\vert v\\vert = \\sqrt{v \\cdot v} = \\sqrt{v_1^2 + \\cdots + v_n^2}$$"
   ]
  },
  {
   "cell_type": "markdown",
   "metadata": {},
   "source": [
    "예를 들어 벡터 $(3, 4)$의 크기는 다음과 같다."
   ]
  },
  {
   "cell_type": "markdown",
   "metadata": {},
   "source": [
    "$$\\vert (3, 4)\\vert  = \\sqrt{3^2 + 4^2} = \\sqrt{5^2} = 5$$"
   ]
  },
  {
   "cell_type": "markdown",
   "metadata": {},
   "source": [
    "## $\\blacktriangleright$ Numpy 사용  "
   ]
  },
  {
   "cell_type": "markdown",
   "metadata": {},
   "source": [
    "1차원 어레이로 구현하자.\n",
    "\n",
    "$$\n",
    "\\mathbf{x}=\\left(1,2,3 \\right)=\\left[\\begin{array}{c}\n",
    "1 \\\\\n",
    "2 \\\\\n",
    "3\n",
    "\\end{array}\\right]\n",
    "$$\n",
    "\n",
    "\n",
    "$$\n",
    "\\mathbf{y}=\\left(4,5,6 \\right)=\\left[\\begin{array}{c}\n",
    "4 \\\\\n",
    "5 \\\\\n",
    "6\n",
    "\\end{array}\\right]\n",
    "$$"
   ]
  },
  {
   "cell_type": "code",
   "execution_count": 170,
   "metadata": {},
   "outputs": [],
   "source": [
    "import numpy as np"
   ]
  },
  {
   "cell_type": "code",
   "execution_count": 171,
   "metadata": {},
   "outputs": [
    {
     "data": {
      "text/plain": [
       "array([1, 2, 3])"
      ]
     },
     "execution_count": 171,
     "metadata": {},
     "output_type": "execute_result"
    }
   ],
   "source": [
    "x = np.array([1, 2, 3])\n",
    "x"
   ]
  },
  {
   "cell_type": "code",
   "execution_count": 172,
   "metadata": {},
   "outputs": [
    {
     "data": {
      "text/plain": [
       "array([4, 5, 6])"
      ]
     },
     "execution_count": 172,
     "metadata": {},
     "output_type": "execute_result"
    }
   ],
   "source": [
    "y = np.array([4, 5, 6])\n",
    "y"
   ]
  },
  {
   "cell_type": "code",
   "execution_count": 173,
   "metadata": {
    "scrolled": false
   },
   "outputs": [
    {
     "data": {
      "text/plain": [
       "array([5, 7, 9])"
      ]
     },
     "execution_count": 173,
     "metadata": {},
     "output_type": "execute_result"
    }
   ],
   "source": [
    "x + y"
   ]
  },
  {
   "cell_type": "code",
   "execution_count": 174,
   "metadata": {
    "scrolled": false
   },
   "outputs": [
    {
     "data": {
      "text/plain": [
       "array([2, 4, 6])"
      ]
     },
     "execution_count": 174,
     "metadata": {},
     "output_type": "execute_result"
    }
   ],
   "source": [
    "2*x"
   ]
  },
  {
   "cell_type": "code",
   "execution_count": 175,
   "metadata": {},
   "outputs": [
    {
     "data": {
      "text/plain": [
       "32"
      ]
     },
     "execution_count": 175,
     "metadata": {},
     "output_type": "execute_result"
    }
   ],
   "source": [
    "np.dot(x,y)"
   ]
  },
  {
   "cell_type": "markdown",
   "metadata": {},
   "source": [
    "#  행렬"
   ]
  },
  {
   "cell_type": "markdown",
   "metadata": {},
   "source": [
    "행렬(matrix)은 보통 숫자들을 직사각형 형태로 배열한 것이다. "
   ]
  },
  {
   "cell_type": "markdown",
   "metadata": {},
   "source": [
    "$$\n",
    "A= [a_{ij}]_{i=1,...,n, j=1,...,n}=\\left[\\begin{array}{cccc}\n",
    "a_{11} & a_{12} & \\cdots & a_{1 n} \\\\\n",
    "a_{21} & a_{22} & \\cdots & a_{2 n} \\\\\n",
    "\\vdots & \\vdots & & \\vdots \\\\\n",
    "a_{i 1} & a_{i 2} & \\cdots & a_{i n} \\\\\n",
    "\\vdots & \\vdots & & \\vdots \\\\\n",
    "a_{m 1} & a_{m 2} & \\cdots & a_{m n}\n",
    "\\end{array}\\right]\n",
    "$$"
   ]
  },
  {
   "cell_type": "markdown",
   "metadata": {},
   "source": [
    "예를 들어, $1, 2, 3, 4, 5, 6$ 여섯 개의 항목을 가진 \n",
    "행렬의 모양(shape)은 네 종류가 있다.   \n",
    "이유는 6을 두 개의 양의 정수의 곱셈으로 표현하는 방법이 네 가지이기 때문이다. \n",
    "\n",
    "$$ 6 = 1\\times6 = 2\\times 3 = 3 \\times 2 = 6 \\times 1$$"
   ]
  },
  {
   "cell_type": "markdown",
   "metadata": {},
   "source": [
    "* $1\\times 6$ 행렬: 한 개의 행과 여섯 개의 열\n",
    "\n",
    "\\begin{bmatrix}\n",
    "    1 & 2 & 3 & 4 & 5 & 6\n",
    "\\end{bmatrix}"
   ]
  },
  {
   "cell_type": "markdown",
   "metadata": {},
   "source": [
    "* $2 \\times 3$ 행렬: 두 개의 행과 세 개의 열\n",
    "\n",
    "\\begin{bmatrix}\n",
    "    1 & 2 & 3\\\\\n",
    "    4 & 5 & 6\n",
    "\\end{bmatrix}"
   ]
  },
  {
   "cell_type": "markdown",
   "metadata": {},
   "source": [
    "* $3 \\times 2$ 행렬: 세 개의 행과 두 개의 열\n",
    "\n",
    "\\begin{bmatrix}\n",
    "    1 & 2 \\\\\n",
    "    3 & 4 \\\\\n",
    "    5 & 6\n",
    "\\end{bmatrix}"
   ]
  },
  {
   "cell_type": "markdown",
   "metadata": {},
   "source": [
    "* $6 \\times 1$ 행렬: 여섯 개의 행과 한 개의 열\n",
    "\n",
    "\\begin{bmatrix}\n",
    "    1 \\\\\n",
    "    2 \\\\\n",
    "    3 \\\\\n",
    "    4 \\\\\n",
    "    5 \\\\\n",
    "    6\n",
    "\\end{bmatrix}"
   ]
  },
  {
   "cell_type": "markdown",
   "metadata": {},
   "source": [
    "## 특수 행렬"
   ]
  },
  {
   "cell_type": "markdown",
   "metadata": {},
   "source": [
    "- 영행렬\n",
    "\n",
    "영행렬(zero matrix)이란 행렬의 모든 원소의 값이 0인 행렬을 말한다.\n",
    "예를 들어 아래 행렬은 (3, 2) 모양의 영행렬이다.\n",
    "\n",
    "$$\n",
    "\\begin{bmatrix}\n",
    "    0 & 0 \\\\\n",
    "    0 & 0 \\\\\n",
    "    0 & 0\n",
    "\\end{bmatrix}\n",
    "$$"
   ]
  },
  {
   "cell_type": "markdown",
   "metadata": {},
   "source": [
    "- 단위행렬\n",
    "\n",
    "단위행렬(identity matrix)은 정사각형 모양의 행렬 중에서 대각선 상에 위치한 항목은 1이고\n",
    "나머지는 0인 행렬을 말한다. $I_n$은 $n\\times n$ 행렬로 아래와 같다. \n",
    "$$\n",
    "I_{n}=\\left[\\begin{array}{cccc}\n",
    "1 & 0 & \\cdots & 0 \\\\\n",
    "0 & 1 & \\cdots & 0 \\\\\n",
    "\\vdots & \\vdots & \\ddots & \\vdots \\\\\n",
    "0 & 0 & \\cdots & 1\n",
    "\\end{array}\\right]\n",
    "$$\n",
    "\n",
    "\n",
    "예를 들어  \n",
    "\n",
    "$$\n",
    "I_{5}=\\left[\\begin{array}{cccc}\n",
    "1 & 0 & 0 & 0 & 0 \\\\\n",
    "0 & 1 & 0 & 0 & 0  \\\\\n",
    "0 & 0 & 1 & 0 & 0  \\\\\n",
    "0 & 0 & 0 & 1 & 0 \\\\\n",
    "0 & 0 & 0 & 0 & 1  \n",
    "\\end{array}\\right]\n",
    "$$"
   ]
  },
  {
   "cell_type": "markdown",
   "metadata": {},
   "source": [
    "##  행렬 덧셈과 뺄셈"
   ]
  },
  {
   "cell_type": "markdown",
   "metadata": {},
   "source": [
    "모양이 같은 두 행렬의 덧셈/뺄셈은 항목별로 더한/뺀 결과로 이루어진 행렬이다. \n",
    "즉, 벡터의 덧셈/뺄셈과 동일한 방식이다.\n",
    "예를 들어, $2 \\times 3$ 행렬의 덧셈/뺄셈은 다음과 같다."
   ]
  },
  {
   "cell_type": "markdown",
   "metadata": {},
   "source": [
    "$$\n",
    "\\begin{align*}\n",
    "\\begin{bmatrix}1&3&7\\\\1&0&0\\end{bmatrix} \n",
    "+ \\begin{bmatrix}0&0&5\\\\7&5&0\\end{bmatrix}\n",
    "&= \\begin{bmatrix}1+0&3+0&7+5\\\\1+7&0+5&0+0\\end{bmatrix} = \\begin{bmatrix}1&3&12\\\\8&5&0\\end{bmatrix}\\\\[2ex]\n",
    "\\begin{bmatrix}1&3&7\\\\1&0&0\\end{bmatrix} \n",
    "- \\begin{bmatrix}0&0&5\\\\7&5&0\\end{bmatrix}\n",
    "&= \\begin{bmatrix}1-0&3-0&7-5\\\\1-7&0-5&0-0\\end{bmatrix} = \\begin{bmatrix}1&3&2\\\\-6&-5&0\\end{bmatrix}\n",
    "\\end{align*}\n",
    "$$"
   ]
  },
  {
   "cell_type": "markdown",
   "metadata": {},
   "source": [
    "## 행렬의 스칼라 곱셈"
   ]
  },
  {
   "cell_type": "markdown",
   "metadata": {},
   "source": [
    "숫자 하나와 행렬의 곱셈을 행렬 스칼라 곱셈이라 부른다. \n",
    "스칼라 곱셈은 행렬의 각 항목을 지정된 숫자로 곱해 새로운 행렬을 생성한다.\n",
    "즉, 벡터의 스칼라 곱셈과 동일한 방식이다. "
   ]
  },
  {
   "cell_type": "markdown",
   "metadata": {},
   "source": [
    "예를 들어, (2, 3) 모양의 행렬의 스칼라 곱셈은 다음과 같다.\n",
    "\n",
    "$$\n",
    "\\begin{align*}\n",
    "2\\cdot \n",
    "\\begin{bmatrix}1&8&-3\\\\4&-2&5\\end{bmatrix}\n",
    "&= \\begin{bmatrix}2\\cdot 1&2\\cdot 8&2\\cdot -3\\\\2\\cdot 4&2\\cdot -2&2\\cdot 5\\end{bmatrix} = \\begin{bmatrix}2&16&-6\\\\8&-4&10\\end{bmatrix}\n",
    "\\end{align*}\n",
    "$$"
   ]
  },
  {
   "cell_type": "markdown",
   "metadata": {},
   "source": [
    "## 행렬 곱셈\n",
    "\n",
    "$m \\times n$ 행렬 $A$와 $n \\times p$ 행렬 $B$의 곱은 $m \\times p$ 행렬이며, \n",
    "각 $(i, j)$번째 항목은 다음과 같이 정의된다."
   ]
  },
  {
   "cell_type": "markdown",
   "metadata": {},
   "source": [
    "$$\n",
    "\\begin{align*}\n",
    "(A B)_{ij}\n",
    "&= \\sum _{k=1}^{n} A_{ik} \\cdot B_{kj} \\\\\n",
    "&= A_{i1} \\cdot B_{1j} + A_{i2} \\cdot B_{2j} + \\cdots + A_{in} \\cdot B_{nj}\n",
    "\\end{align*}\n",
    "$$"
   ]
  },
  {
   "cell_type": "markdown",
   "metadata": {},
   "source": [
    "그림으로 나타내면 다음과 같다."
   ]
  },
  {
   "attachments": {},
   "cell_type": "markdown",
   "metadata": {},
   "source": [
    "![images/Matrix_mult_diagram.png](images/Matrix_mult_diagram.png)\n",
    "<img src=\"https://raw.githubusercontent.com/codingalzi/pydata/master/notebooks/images/Matrix_mult_diagram.png\" width=\"30%\">\n",
    "\n",
    "출처: [위키백과](https://en.wikipedia.org/wiki/Dot_product)"
   ]
  },
  {
   "cell_type": "markdown",
   "metadata": {},
   "source": [
    "즉, 좌측 행렬 열의 수 $n$과 우측 행렬 행의 수 $n$이 같은 경우에만 곱셈이 가능하다.\n",
    "\n",
    "\n",
    "예를 들어, $2 \\times 3$ 행렬과 $3 \\times 2$ 행렬의 곱셈은 다음과 같다.\n",
    "\n",
    "$$\n",
    "\\begin{align*}\n",
    "\\begin{bmatrix}\n",
    "    1&0&2\\\\-1&3&1\n",
    "\\end{bmatrix}\n",
    "\\begin{bmatrix}\n",
    "    3&1\\\\2&1\\\\1&0\n",
    "\\end{bmatrix}\n",
    "&=\n",
    "\\begin{bmatrix}\n",
    "    (1\\cdot 3+0\\cdot 2+2\\cdot 1)&(1\\cdot 1+0\\cdot 1+2\\cdot 0)\\\\(-1\\cdot 3+3\\cdot 2+1\\cdot 1)&(-1\\cdot 1+3\\cdot 1+1\\cdot 0)\n",
    "\\end{bmatrix} =  \n",
    "\\begin{bmatrix}\n",
    "    5&1\\\\4&2\n",
    "\\end{bmatrix}\n",
    "\\end{align*}\n",
    "$$"
   ]
  },
  {
   "cell_type": "markdown",
   "metadata": {},
   "source": [
    "## 행렬 곱셈과 벡터내적"
   ]
  },
  {
   "cell_type": "markdown",
   "metadata": {},
   "source": [
    "$m \\times n$ 행렬 $A$와 $n \\times p$ 행렬 $B$의 곱 $AB$의 $(i, j)$번째 항목 $(A B)_{ij}$를 살펴본다. "
   ]
  },
  {
   "cell_type": "markdown",
   "metadata": {},
   "source": [
    "- ### 행벡터와 열벡터\n",
    "\n",
    "행렬 $A$의 $i$ 행벡터를 \n",
    "\n",
    "$$A_i = (A_{i1},\\dots, A_{in}),$$\n",
    "\n",
    "행렬 $B$의 $j$ 열벡터를 \n",
    "\n",
    "$$\n",
    "B^j=\\left[\\begin{array}{cccc} \n",
    "B_{0j} \\\\\n",
    "\\vdots \\\\\n",
    "B_{nj}\n",
    "\\end{array}\\right]\n",
    "$$\n",
    "\n",
    "라 하자. "
   ]
  },
  {
   "cell_type": "markdown",
   "metadata": {},
   "source": [
    "- ### 행렬곱셈과 내적\n",
    "\n",
    "이제 $AB$의 $(i, j)$번째 항목 $(A B)_{ij}$는  \n",
    "\n",
    "\n",
    "$$\n",
    "\\begin{align*}\n",
    "(A B)_{ij}\n",
    "&= \\sum _{k=1}^{n} A_{ik} \\cdot B_{kj} \\\\\n",
    "&= A_{i1} \\cdot B_{1j} + A_{i2} \\cdot B_{2j} + \\cdots + A_{in} \\cdot B_{nj}\\\\\n",
    "&= A_i \\cdot B^j\n",
    "\\end{align*}\n",
    "$$\n",
    "\n",
    "즉, $(A B)_{ij}$는 $A$의 $i$번째  행벡터와 $B$의 $j$번째 열벡터의 **내적**으로 정의된다."
   ]
  },
  {
   "cell_type": "markdown",
   "metadata": {},
   "source": [
    "반면에 행렬 $A$의 $i$ 행벡터를 \n",
    "\n",
    "$$A_i = (A_{i0},\\dots, A_{i(n-1)}),$$\n",
    "\n",
    "행렬 $B$의 $j$ 열벡터를 \n",
    "$$\n",
    "B^j=\\left[\\begin{array}{cccc} \\\\\n",
    "B_{0j} \\\\\n",
    "\\vdots \\\\\n",
    "B_{nj}\n",
    "\\end{array}\\right]\n",
    "\n",
    "라 할 때, 다음이 성립한다.\n",
    "\n",
    "$$\n",
    "A^0_i \\cdot B^1_j\n",
    "= A_{i0} \\cdot B_{0j} + A_{i2} \\cdot B_{2j} + \\cdots + A_{i(n-1)} \\cdot B_{(n-1)j}\n",
    "$$\n",
    "\n",
    "즉, $(A B)_{ij}$는 $A$의 $i$ 행벡터와 $B$의 $j$ 열벡터의 **내적**으로 정의된다."
   ]
  },
  {
   "cell_type": "markdown",
   "metadata": {},
   "source": [
    "예를 들어 위의 $2 \\times 3$ 행렬과 $3 \\times 2$ 행렬의 곱셈을 다시 살펴보자."
   ]
  },
  {
   "cell_type": "markdown",
   "metadata": {},
   "source": [
    "$$\n",
    "\\begin{align*}\n",
    "\\begin{bmatrix}\n",
    "    1&0&2\\\\-1&3&1\n",
    "\\end{bmatrix}\n",
    "\\cdot \n",
    "\\begin{bmatrix}\n",
    "    3&1\\\\2&1\\\\1&0\n",
    "\\end{bmatrix}\n",
    "&=\n",
    "\\begin{bmatrix}\n",
    "    (1\\cdot 3+0\\cdot 2+2\\cdot 1)&(1\\cdot 1+0\\cdot 1+2\\cdot 0)\\\\(-1\\cdot 3+3\\cdot 2+1\\cdot 1)&(-1\\cdot 1+3\\cdot 1+1\\cdot 0)\n",
    "\\end{bmatrix}= \n",
    "\\begin{bmatrix}\n",
    "    5&1\\\\4&2\n",
    "\\end{bmatrix}\n",
    "\\end{align*}\n",
    "$$"
   ]
  },
  {
   "cell_type": "markdown",
   "metadata": {},
   "source": [
    "위 계산을 벡터 내적으로 표현해보자.\n",
    "먼저 두 행렬 $A$와 $B$를 지정한다."
   ]
  },
  {
   "cell_type": "markdown",
   "metadata": {},
   "source": [
    "$$\n",
    "A = \\begin{bmatrix}\n",
    "    1&0&2\\\\-1&3&1\n",
    "\\end{bmatrix} \\text{,}\n",
    "\\qquad\n",
    "B = \\begin{bmatrix}\n",
    "    3&1\\\\2&1\\\\1&0\n",
    "\\end{bmatrix}\n",
    "$$"
   ]
  },
  {
   "cell_type": "markdown",
   "metadata": {},
   "source": [
    "그러면 \n",
    "\n",
    "$$(A\\cdot B)_{21}= A_2 \\cdot B^1=-1\\cdot 3+3\\cdot 2+1\\cdot 1 = 4$$"
   ]
  },
  {
   "cell_type": "markdown",
   "metadata": {},
   "source": [
    "$$\n",
    "\\begin{align*}\n",
    "A^0_1 \\cdot B^1_1\n",
    "&= \n",
    "\\begin{bmatrix}\n",
    "    -1&3&1\n",
    "\\end{bmatrix}\n",
    "\\cdot\n",
    "\\begin{bmatrix}\n",
    "    1 & 1 & 0\n",
    "\\end{bmatrix} \\\\[.5ex]\n",
    "&=\n",
    "-1\\cdot 1+3\\cdot 1+1\\cdot 0 \\\\\n",
    "&=\n",
    "2\n",
    "\\end{align*}\n",
    "$$"
   ]
  },
  {
   "cell_type": "markdown",
   "metadata": {},
   "source": [
    "## 행렬 연산(합, 곱) 항등원과 역원"
   ]
  },
  {
   "cell_type": "markdown",
   "metadata": {},
   "source": [
    "- 행렬의 덧셈 연산에 대한 항등원은 영행렬로 $O$으로 나타내자.  \n",
    "- 행렬 $A$ 합에 대한 역원을 $B$라 하면 \n",
    "$$\n",
    "A + B = B + A = O\n",
    "$$\n",
    "이다. \n",
    "- $B = (-1)A$이며 $-A$로 나타낸다.  "
   ]
  },
  {
   "cell_type": "markdown",
   "metadata": {},
   "source": [
    "- $n\\times n$ 행렬들의 곱셈에 대한 항등원을 $I_n$이다. 즉, 임의의 $n\\times n$ 행렬 $A$에 대하여\n",
    "\n",
    "$$ \n",
    "A I_n = I_n A = A\n",
    "$$\n",
    "이다. \n",
    "\n",
    "- $n$ 차의 정사각행렬 $A$의 곱셈에 대한 역원 $B$는 다음을 만족한다: \n",
    "$$\n",
    "A B=B A=I_{n}\n",
    "$$"
   ]
  },
  {
   "cell_type": "markdown",
   "metadata": {},
   "source": [
    "### 정의. [역행렬, 가역/비가역 행렬]"
   ]
  },
  {
   "cell_type": "markdown",
   "metadata": {},
   "source": [
    "\n",
    "- $n$ 차의 정사각행렬 $A$에 대하여 $A B=I_{n}=BA$을 만족하는 행렬 $B$를 행렬 $A$의 역행렬이라 하며 $A^{-1}$로 표현한다. 즉, $B = A^{-1}$이다.    \n",
    "\n",
    "\n",
    "- $n$ 차의 정사각행렬 $A$의 곱셈에 대한 역원이 존재하면 $A$ 는 가역(invertible, nonsingular)이라고 한다.  \n",
    "\n",
    "  \n",
    "- 이러한 $B$ 가 존재하지 않으면 $A$ 는 비가역 (noninvertible, singular)이라고 한다."
   ]
  },
  {
   "cell_type": "markdown",
   "metadata": {},
   "source": [
    "## 전치행렬"
   ]
  },
  {
   "cell_type": "markdown",
   "metadata": {},
   "source": [
    "행렬의 **전치**란 행과 열을 바꾸는 것으로, 행렬 $A$의 전치는 $A^T$로 나타낸다. \n",
    "\n",
    "즉, $A = [A_{ij}]$가 $m \\times n$ 행렬이면 $A^T$는 $n \\times m$ 행렬이며,\n",
    " $A^T$의 $i$행의 $j$열번째 값은 $A$의 $j$행의 $i$열번째 값이다. \n",
    "즉,\n",
    "\n",
    "$$\n",
    "A ^{T}_{ij} = A_{ji}\n",
    "$$"
   ]
  },
  {
   "cell_type": "markdown",
   "metadata": {},
   "source": [
    "예를 들어, $2\\times 3$ 행렬의 전치는 $3 \\times 2$ 행렬이 되며 다음과 같이 작동한다.\n",
    "\n",
    "$$\n",
    "\\begin{bmatrix}\n",
    "    9&8&7\\\\\n",
    "    -1&3&4\n",
    "\\end{bmatrix}^{T}\n",
    "=\n",
    "\\begin{bmatrix}\n",
    "    9&-1\\\\\n",
    "    8&3\\\\\n",
    "    7&4\n",
    "\\end{bmatrix}\n",
    "$$"
   ]
  },
  {
   "cell_type": "markdown",
   "metadata": {},
   "source": [
    "### 정리. [전치행렬의 성질]"
   ]
  },
  {
   "cell_type": "markdown",
   "metadata": {},
   "source": [
    "$a$를 스칼라, $A, B$를 크기가 같은 행렬이라 하자. 이때 다음이 성립한다.\n",
    "\n",
    "* $(A^T)^T = A$\n",
    "* $(A + B)^T = A^T + B^T$\n",
    "* $(A - B)^T = A^T - B^T$\n",
    "* $(a\\cdot A)^T = a\\cdot A^T$\n",
    "* $(A B)^T = B^T A^T$"
   ]
  },
  {
   "cell_type": "markdown",
   "metadata": {},
   "source": [
    "### 정리. [전치행렬의 성질]"
   ]
  },
  {
   "cell_type": "markdown",
   "metadata": {},
   "source": [
    "$a$를 스칼라, $A, B$를 크기가 같은 행렬이라 하자. 이때 다음이 성립한다.\n",
    "\n",
    "* $(A^T)^T = A$\n",
    "* $(A + B)^T = A^T + B^T$\n",
    "* $(A - B)^T = A^T - B^T$\n",
    "* $(a\\cdot A)^T = a\\cdot A^T$\n",
    "* $(A B)^T = B^T A^T$"
   ]
  },
  {
   "cell_type": "markdown",
   "metadata": {},
   "source": [
    "## 전치행렬"
   ]
  },
  {
   "cell_type": "markdown",
   "metadata": {},
   "source": [
    "행렬의 **전치**란 행과 열을 바꾸는 것으로, 행렬 $A$의 전치는 $A^T$로 나타낸다. \n",
    "\n",
    "즉, $A = [A_{ij}]$가 $m \\times n$ 행렬이면 $A^T$는 $n \\times m$ 행렬이며,\n",
    " $A^T$의 $i$행의 $j$열번째 값은 $A$의 $j$행의 $i$열번째 값이다. \n",
    "즉,\n",
    "\n",
    "$$\n",
    "A ^{T}_{ij} = A_{ji}\n",
    "$$"
   ]
  },
  {
   "cell_type": "markdown",
   "metadata": {},
   "source": [
    "예를 들어, $2\\times 3$ 행렬의 전치는 $3 \\times 2$ 행렬이 되며 다음과 같이 작동한다.\n",
    "\n",
    "$$\n",
    "\\begin{bmatrix}\n",
    "    9&8&7\\\\\n",
    "    -1&3&4\n",
    "\\end{bmatrix}^{T}\n",
    "=\n",
    "\\begin{bmatrix}\n",
    "    9&-1\\\\\n",
    "    8&3\\\\\n",
    "    7&4\n",
    "\\end{bmatrix}\n",
    "$$"
   ]
  },
  {
   "cell_type": "markdown",
   "metadata": {},
   "source": [
    "### 정리. [전치행렬의 성질]"
   ]
  },
  {
   "cell_type": "markdown",
   "metadata": {},
   "source": [
    "$a$를 스칼라, $A, B$를 크기가 같은 행렬이라 하자. 이때 다음이 성립한다.\n",
    "\n",
    "* $(A^T)^T = A$\n",
    "* $(A + B)^T = A^T + B^T$\n",
    "* $(A - B)^T = A^T - B^T$\n",
    "* $(a\\cdot A)^T = a\\cdot A^T$\n",
    "* $(A B)^T = B^T A^T$"
   ]
  },
  {
   "cell_type": "markdown",
   "metadata": {},
   "source": [
    "## $\\blacktriangleright$ Numpy 사용  "
   ]
  },
  {
   "cell_type": "markdown",
   "metadata": {},
   "source": [
    "- ### 주어진 행렬을 numpy에서의 2차원 array를 사용하여 구현한다.  \n",
    "\n",
    "다음의 행렬 $X, Y,Z$를 각각  (2, 3) 모양(shape)\n",
    "그리고  $Z$ (3,2)모양의 2차원 어레이로 구현하여 계산한다.\n",
    "\n",
    "$$\n",
    "X =\n",
    "\\begin{bmatrix}\n",
    "1 & 2 & 3 \\\\\n",
    "4 & 5 & 6\n",
    "\\end{bmatrix}\n",
    "$$\n",
    "\n",
    "$$\n",
    "Y =\n",
    "\\begin{bmatrix}\n",
    "9 & 2 & 3 \\\\\n",
    "0 & 5 & 3\n",
    "\\end{bmatrix}\n",
    "$$\n",
    "\n",
    "$$\n",
    "Z =\n",
    "\\begin{bmatrix}\n",
    "1 & -2 \\\\\n",
    "7 & 3 \\\\\n",
    "4 & 5 \n",
    "\\end{bmatrix}\n",
    "$$"
   ]
  },
  {
   "cell_type": "code",
   "execution_count": 176,
   "metadata": {},
   "outputs": [],
   "source": [
    "import numpy as np"
   ]
  },
  {
   "cell_type": "code",
   "execution_count": 177,
   "metadata": {
    "scrolled": true
   },
   "outputs": [
    {
     "data": {
      "text/plain": [
       "array([[1, 2, 3],\n",
       "       [4, 5, 6]])"
      ]
     },
     "execution_count": 177,
     "metadata": {},
     "output_type": "execute_result"
    }
   ],
   "source": [
    "X = np.array([[1, 2, 3], [4, 5, 6]])\n",
    "X"
   ]
  },
  {
   "cell_type": "code",
   "execution_count": 178,
   "metadata": {},
   "outputs": [
    {
     "data": {
      "text/plain": [
       "array([[9., 2., 3.],\n",
       "       [0., 5., 3.]])"
      ]
     },
     "execution_count": 178,
     "metadata": {},
     "output_type": "execute_result"
    }
   ],
   "source": [
    "Y = np.array([[9, 2., 3.], [0, 5, 3]])\n",
    "Y"
   ]
  },
  {
   "cell_type": "code",
   "execution_count": 179,
   "metadata": {},
   "outputs": [
    {
     "data": {
      "text/plain": [
       "array([[ 1, -2],\n",
       "       [ 7,  3],\n",
       "       [ 4,  5]])"
      ]
     },
     "execution_count": 179,
     "metadata": {},
     "output_type": "execute_result"
    }
   ],
   "source": [
    "Z = np.array([[1, -2], [7, 3], [4, 5]])\n",
    "Z"
   ]
  },
  {
   "cell_type": "markdown",
   "metadata": {},
   "source": [
    "- ### 행렬 합, 스칼라곱 "
   ]
  },
  {
   "cell_type": "code",
   "execution_count": 180,
   "metadata": {
    "scrolled": true
   },
   "outputs": [
    {
     "data": {
      "text/plain": [
       "array([[10.,  4.,  6.],\n",
       "       [ 4., 10.,  9.]])"
      ]
     },
     "execution_count": 180,
     "metadata": {},
     "output_type": "execute_result"
    }
   ],
   "source": [
    "X + Y"
   ]
  },
  {
   "cell_type": "code",
   "execution_count": 181,
   "metadata": {
    "scrolled": false
   },
   "outputs": [
    {
     "data": {
      "text/plain": [
       "array([[ 2,  4,  6],\n",
       "       [ 8, 10, 12]])"
      ]
     },
     "execution_count": 181,
     "metadata": {},
     "output_type": "execute_result"
    }
   ],
   "source": [
    "2*X"
   ]
  },
  {
   "cell_type": "markdown",
   "metadata": {},
   "source": [
    "- ### 행렬 곱셈 "
   ]
  },
  {
   "cell_type": "code",
   "execution_count": 182,
   "metadata": {},
   "outputs": [
    {
     "data": {
      "text/plain": [
       "array([[27, 19],\n",
       "       [63, 37]])"
      ]
     },
     "execution_count": 182,
     "metadata": {},
     "output_type": "execute_result"
    }
   ],
   "source": [
    "X.dot(Z)"
   ]
  },
  {
   "cell_type": "code",
   "execution_count": 183,
   "metadata": {},
   "outputs": [
    {
     "data": {
      "text/plain": [
       "array([[27, 19],\n",
       "       [63, 37]])"
      ]
     },
     "execution_count": 183,
     "metadata": {},
     "output_type": "execute_result"
    }
   ],
   "source": [
    "X@Z"
   ]
  },
  {
   "cell_type": "markdown",
   "metadata": {},
   "source": [
    "`np.dot()` 함수를 이용해도 동일한 결과를 얻는다."
   ]
  },
  {
   "cell_type": "code",
   "execution_count": 184,
   "metadata": {
    "scrolled": true
   },
   "outputs": [
    {
     "data": {
      "text/plain": [
       "array([[27, 19],\n",
       "       [63, 37]])"
      ]
     },
     "execution_count": 184,
     "metadata": {},
     "output_type": "execute_result"
    }
   ],
   "source": [
    "np.dot(X,Z)  "
   ]
  },
  {
   "cell_type": "markdown",
   "metadata": {},
   "source": [
    "- ### 전치행렬 "
   ]
  },
  {
   "cell_type": "markdown",
   "metadata": {},
   "source": [
    "전치 행렬은 전치 어레이로 구현된다."
   ]
  },
  {
   "cell_type": "code",
   "execution_count": 185,
   "metadata": {},
   "outputs": [
    {
     "data": {
      "text/plain": [
       "array([[1, 4],\n",
       "       [2, 5],\n",
       "       [3, 6]])"
      ]
     },
     "execution_count": 185,
     "metadata": {},
     "output_type": "execute_result"
    }
   ],
   "source": [
    "X.T"
   ]
  },
  {
   "cell_type": "code",
   "execution_count": 186,
   "metadata": {},
   "outputs": [
    {
     "data": {
      "text/plain": [
       "array([[ 1,  7,  4],\n",
       "       [-2,  3,  5]])"
      ]
     },
     "execution_count": 186,
     "metadata": {},
     "output_type": "execute_result"
    }
   ],
   "source": [
    "Z.T"
   ]
  },
  {
   "cell_type": "markdown",
   "metadata": {},
   "source": [
    "$XZ$ 의 전치 행렬은 $Z$의 전치 행렬과 $X$의 전치 행렬의 곱이다."
   ]
  },
  {
   "cell_type": "code",
   "execution_count": 187,
   "metadata": {},
   "outputs": [
    {
     "data": {
      "text/plain": [
       "True"
      ]
     },
     "execution_count": 187,
     "metadata": {},
     "output_type": "execute_result"
    }
   ],
   "source": [
    "((X @ Z).T == Z.T @ X.T).all()"
   ]
  },
  {
   "cell_type": "code",
   "execution_count": 188,
   "metadata": {},
   "outputs": [
    {
     "data": {
      "text/plain": [
       "array([[ True,  True],\n",
       "       [ True,  True]])"
      ]
     },
     "execution_count": 188,
     "metadata": {},
     "output_type": "execute_result"
    }
   ],
   "source": [
    "(X @ Z).T == Z.T @ X.T"
   ]
  },
  {
   "cell_type": "markdown",
   "metadata": {},
   "source": [
    "- ### 역행렬 "
   ]
  },
  {
   "cell_type": "markdown",
   "metadata": {},
   "source": [
    "역행렬은 `numpy.linalg` 모듈에 포함된 `inv()` 함수를 이용하여 구한다."
   ]
  },
  {
   "cell_type": "code",
   "execution_count": 189,
   "metadata": {},
   "outputs": [],
   "source": [
    "W = np.array([[3,4],[-1, 2]])"
   ]
  },
  {
   "cell_type": "code",
   "execution_count": 190,
   "metadata": {},
   "outputs": [
    {
     "data": {
      "text/plain": [
       "array([[ 0.2, -0.4],\n",
       "       [ 0.1,  0.3]])"
      ]
     },
     "execution_count": 190,
     "metadata": {},
     "output_type": "execute_result"
    }
   ],
   "source": [
    "np.linalg.inv(W)"
   ]
  },
  {
   "cell_type": "code",
   "execution_count": 191,
   "metadata": {},
   "outputs": [],
   "source": [
    "from numpy.linalg import inv"
   ]
  },
  {
   "cell_type": "code",
   "execution_count": 192,
   "metadata": {},
   "outputs": [
    {
     "data": {
      "text/plain": [
       "array([[ 0.2, -0.4],\n",
       "       [ 0.1,  0.3]])"
      ]
     },
     "execution_count": 192,
     "metadata": {},
     "output_type": "execute_result"
    }
   ],
   "source": [
    "inv(W)"
   ]
  },
  {
   "cell_type": "markdown",
   "metadata": {},
   "source": [
    "# 행렬식과 벡터의 외적"
   ]
  },
  {
   "cell_type": "markdown",
   "metadata": {},
   "source": [
    "## 행렬식"
   ]
  },
  {
   "cell_type": "markdown",
   "metadata": {},
   "source": [
    "### 치환(permutation, 순열)  \n",
    "\n",
    "- 자연수의 집합 $S=\\{1,2, \\ldots, n\\}$ 의 치환(permutation, 순열)이란 $S$ 에서 $S$ 로의 일대일 대응 함수이다.\n",
    "\n",
    "- 앞으로 치환을 간단히 $\\sigma=(\\sigma(1) \\sigma(2) \\cdots \\sigma(n))=\\left(i_{1} i_{2} \\cdots i_{n}\\right)$ 로 나타낸다. \n",
    "\n",
    "- 치환 $\\sigma$ 는 일대일대응이므로 치역 $\\left\\{i_{1}, i_{2}, \\ldots, i_{n}\\right\\}$ 은 $1,2, \\ldots, n$ 의 숫자를 일렬로 배열하는 것에 지나지 않는다.   \n",
    "따라서 $S=\\{1,2, \\cdots, n\\}$ 의 치환은 모두 $n !$ 개이다. 집합 $S$ 의 모든 치환의 집합을 $S_{n}$ 으로 표시한다. \n",
    "\n",
    "### 반전(inversion)\n",
    "\n",
    "- 치환 $\\left(j_{1} j_{2} \\cdots j_{n}\\right)$ 에서 반전(inversion)이란 큰 자연수가 작은 자연수보다 더 왼쪽에 먼저 나타나는 경우를 말한다. \n",
    "\n",
    "- 예를 들어 아래 그림의 치환 $(1423)$ 에서 4 는 2 보다 더 왼쪽에 있 으므로 (4 2)에서 반전이 일어났다. 마찬가지로 (4 3)에서도 반전이 일어났다.  \n",
    "$$\n",
    "(1(4)(2) 3)\n",
    "$$\n",
    "\n",
    "### 짝수치환(even permutation),/ 홀치환(odd permutation)\n",
    "\n",
    "- 치환이 가진 반전의 총 개수가 짝수이면 이 치환은 짝수치환(even permutation), 홀수이면 홀치환(odd permutation)이라고 한다.\n",
    "\n",
    "- $S_{n}$ 의 각 치환을 $+1$ 또는 $-1$ 이라는 수에 대응시키는 부호화 함수(signature function)\n",
    "- \n",
    "$\\operatorname{sgn}$ : ${S}_{n} \\rightarrow\\{+1,-1\\}$ 을 다음과 같이 정의한다.\n",
    "\n",
    "$$\n",
    "\\operatorname{sgn}(\\sigma)= \\begin{cases}+1 & (\\sigma: \\text { 짝치환 }) \\\\ -1 & (\\sigma: \\text { 홀치환 })\\end{cases}\n",
    "$$"
   ]
  },
  {
   "cell_type": "markdown",
   "metadata": {},
   "source": [
    "### 정의. [행렬식] \n",
    "\n",
    "- 행렬 $A=\\left[a_{i j}\\right]$ 가 $n$ 차의 정사각행렬일 때, $A$ 의 행렬식을 $\\operatorname{det}(A)$ 또는 $|A|$ 로 나타내고 다음 과 같이 정의한다.\n",
    "\n",
    "$$\n",
    "\\operatorname{det}(A)=\\sum_{\\sigma \\in S_{n}} \\operatorname{sgn}(\\sigma) a_{1\\sigma(1)} a_{2\\sigma(2)} \\cdots a_{n\\sigma(n)}\n",
    "$$\n",
    "\n",
    "- 정의에 의하여 1 차 정사각행렬 $A=[a]$ 의 행렬식은 $\\operatorname{det}(A)=a$ 이다.  \n",
    "\n",
    "- 행렬식의 각 항 $\\operatorname{sgn}(\\sigma) a_{1\\sigma(1)} a_{2\\sigma(2)} \\cdots a_{n\\sigma(n)}$ 은 행렬 $A$ 의 행과 열에서 중복됨 없이 하나씩 뽑 아서 곱한 후 대응되는 치환의 부호를 붙인 것이다.\n",
    " \n",
    "예를 들어 $3 \\times 3$ 행렬 $A$의 행렬식을 구해보자.\n",
    "\n",
    "$$ S_3= \\{(123), (132), (231), (213), (312), (321)\\} $$\n",
    "\n",
    "이므로 행렬식을 계산하면 모두 6개의 항이 있게 되고 \n",
    "\n",
    "$$\\operatorname{det}(A)= a_{11}(a_{22}a_{33}- a_{23}a_{32}) - a_{12}(a_{21}a_{33}- a_{23}a_{31}) +  a_{13}(a_{21}a_{32}- a_{22}a_{31})$$\n",
    "\n",
    "이고 이는 다음의 식을 의미한다. 즉,\n",
    "\n",
    "$$\n",
    "a_{11}\\left|\\begin{array}{ll}\n",
    "a_{22} & a_{23} \\\\\n",
    "a_{32} & a_{33}\n",
    "\\end{array}\\right|\n",
    "- a_{12}\\left|\\begin{array}{ll}\n",
    "a_{21} & a_{23} \\\\\n",
    "a_{31} & a_{33}\n",
    "\\end{array}\\right|\n",
    "+ a_{13}\\left|\\begin{array}{ll}\n",
    "a_{21} & a_{22} \\\\\n",
    "a_{31} & a_{32}\n",
    "\\end{array}\\right|\n",
    "$$\n",
    "\n",
    "**[예제]**  다음 행렬 $B$의 행렬식을 구하여라.\n",
    "\n",
    "$$\n",
    "B =\\left[\\begin{array}{ccc}\n",
    "2 & 1& -1 \\\\\n",
    "4 & 1& 2 \\\\\n",
    "1 & 5 & -2\n",
    "\\end{array}\\right]\n",
    "$$\n",
    "\n",
    "**답**\n",
    "$-33$\n",
    "\n",
    "\n",
    "\n",
    "\n",
    "### 정리. [행렬식의 성질]  \n",
    "\n",
    "(1) $A$ 가 가역행렬일 필요충분조건은 $\\operatorname{det} A \\neq 0$ 이다.  \n",
    "\n",
    "(2) 두 행렬 $A, B$ 가 $n$ 차의 정사각행렬일 때, $|A B|=|A||B|$ 이 성립한다.  \n",
    "\n",
    "(3) 행렬 $A$ 가 가역이면 $|A| \\neq 0$ 이고, $\\left|A^{-1}\\right|=\\frac{1}{|A|}$ 이 성립한다.\n",
    "\n"
   ]
  },
  {
   "cell_type": "markdown",
   "metadata": {},
   "source": [
    "## 외적(outer product, cross product)\n",
    "\n",
    "두 벡터 $U$ 와 $V$ 의 외적은 기호 $U \\times V$ 로 표현하며, 다음과 같이 정의 된다.\n",
    "\n",
    "### 정의. [외적] \n",
    "\n",
    "성분을 사용한 정의\n",
    "\n",
    "$U=\\left(u_{1}, u_{2}, u_{3}\\right)$ 과 $V=\\left(v_{1}, v_{2}, v_{3}\\right)$ 라 할 때 단위벡터들 $i, j, k$ 를 사 용하여, $U \\times V$ 는 다음과 같은 $3 \\times 3$ 행렬식으로 정의된다.\n",
    "\n",
    "$$\n",
    "U \\times V=\\left|\\begin{array}{ccc}\n",
    "i & j & k \\\\\n",
    "u_{1} & u_{2} & u_{3} \\\\\n",
    "v_{1} & v_{2} & v_{3}\n",
    "\\end{array}\\right|\n",
    "$$\n",
    "\n",
    "이 행렬식을 풀어 쓰면 다음과 같다.\n",
    "\n",
    "$$\n",
    "\\begin{aligned}\n",
    "U \\times V &=\\left|\\begin{array}{ll}\n",
    "u_{2} & u_{3} \\\\\n",
    "v_{2} & v_{3}\n",
    "\\end{array}\\right|i- \\left|\\begin{array}{ll}\n",
    "u_{1} & u_{3} \\\\\n",
    "v_{1} & v_{3}\n",
    "\\end{array}\\right|j+ \\left|\\begin{array}{ll}\n",
    "u_{1} & u_{2} \\\\\n",
    "v_{1} & v_{2}\n",
    "\\end{array}\\right| k \\\\\n",
    "&=\\left(u_{2} v_{3}-u_{3} v_{2}\\right) i-\\left(u_{1} v_{3}-u_{3} v_{1}\\right) j+\\left(u_{1} v_{2}-u_{2} v_{1}\\right) k\n",
    "\\end{aligned}\n",
    "$$"
   ]
  },
  {
   "cell_type": "markdown",
   "metadata": {},
   "source": [
    "**[예제]** 벡터 $U=(1,2,3), V=(1,3,5)$ 일 때, $U \\times V$ 와 $V \\times U$ 를 구하여라.\n",
    "\n",
    "**풀이** \n",
    "\n",
    "$$\n",
    "\\begin{aligned}\n",
    "U \\times V &=\\left|\\begin{array}{ccc}\n",
    "i & j & k \\\\\n",
    "1 & 2 & 3 \\\\\n",
    "1 & 3 & 5\n",
    "\\end{array}\\right| \\\\\n",
    "&=i(2 \\cdot 5-3 \\cdot 3)-j(1 \\cdot 5-1 \\cdot 3)+k(1 \\cdot 3-1 \\cdot 2) \\\\\n",
    "&=i-2 j+k=(1,-2,1) \n",
    "\\end{aligned}\n",
    "$$\n",
    "\n",
    "\n",
    "$$\n",
    "\\begin{aligned}\n",
    "V \\times U &=\\left|\\begin{array}{ccc}\n",
    "i & j & k \\\\\n",
    "1 & 3 & 5 \\\\\n",
    "1 & 2 & 3\n",
    "\\end{array}\\right| \\\\\n",
    "&=i(3 \\cdot 3-2 \\cdot 5)-j(1 \\cdot 3-1 \\cdot 5)+k(1 \\cdot 2-1 \\cdot 3) \\\\\n",
    "&=-i+2 j-k=(-1,2,-1)\n",
    "\\end{aligned}\n",
    "$$"
   ]
  },
  {
   "cell_type": "markdown",
   "metadata": {},
   "source": [
    "### 정리. [외적의 성질] \n",
    "\n",
    " (1) 벡터 $U$ 에서 $V$ 방향으로 이루는 사잇각을 $\\theta$ 라 할 때, 벡터의 외적은\n",
    "\n",
    "$$\n",
    "U \\times V=(\\|U\\|\\|V\\| \\sin \\theta) E\n",
    "$$\n",
    "\n",
    "와 같다. 여기서 $E$ 는 $U$ 와 $V$ 에 의해 만들어지는 평면에 수직한 단위벡터 이다.\n",
    "\n",
    "(2) 벡터 $\\left(u_{2} v_{3}-u_{3} v_{2}\\right) i-\\left(u_{1} v_{3}-u_{3} v_{1}\\right) j+\\left(u_{1} v_{2}-u_{2} v_{1}\\right) k$ 는 $U$ 와 수직이며 동시에 $V$ 와도 수직이다.\n",
    "\n",
    "(3) 실제로 $U \\times V=(\\|U\\|\\|V\\| \\sin \\theta) E$ 의 방향은 다음과 같이 오른손 나사 방향으로 볼 수 있다.\n",
    "\n",
    "### 증명  \n",
    "\n",
    "(1) $U=\\left(u_{1}, u_{2}, u_{3}\\right), V=\\left(v_{1}, v_{2}, v_{3}\\right)$ 이라고 하자. $\\theta$ 는 $U$ 에서 $V$ 방향으 로 잰 사잇각 이므로 다음의 두 가지를 보이면 충분하다.\n",
    "\n",
    "$$\n",
    "\\begin{aligned}\n",
    "\\|U \\times V\\|^2 &=\\left\\|\\left(u_{2} v_{3}-u_{3} v_{2}\\right) i-\\left(u_{1} v_{3}-u_{3} v_{1}\\right) j+\\left(u_{1} v_{2}-u_{2} v_{1}\\right) k\\right\\|^2 \\\\\n",
    "&=\\left(u_{2} v_{3}-u_{3} v_{2}\\right)^{2}+\\left(u_{1} v_{3}-u_{3} v_{1}\\right)^{2}+\\left(u_{1} v_{2}-u_{2} v_{1}\\right)^{2} \\\\\n",
    "&=u_{2}^{2} v_{3}^{2}-2 u_{2} v_{3} u_{3} v_{2}+u_{3}^{2} v_{2}^{2}+u_{1}^{2} v_{3}^{2}-2 u_{1} v_{3} u_{3} v_{1}+u_{3}^{2} v_{1}^{2} \\\\\n",
    "&\\quad+u_{1}^{2} v_{2}^{2}-2 u_{1} v_{2} u_{2} v_{1}+u_{2}^{2} v_{1}^{2} \\\\\n",
    "&=\\left(u_{1}^{2}+u_{2}^{2}+u_{3}^{2}\\right)\\left(v_{1}^{2}+v_{2}^{2}+v_{3}^{2}\\right)-\\left(u_{1} v_{1}+u_{2} v_{2}+u_{3} v_{3}\\right)^{2} \\\\\n",
    "&=\\|U\\|^{2}\\|V\\|^{2}-|U \\cdot V|^{2} \\\\\n",
    "&=\\|U\\|^{2}\\|V\\|^{2}-(\\|U\\|\\|V\\| \\cos \\theta)^{2} \\\\\n",
    "&=\\|U\\|^{2}\\|V\\|^{2}\\left(1-\\cos ^{2} \\theta\\right) \\\\\n",
    "&=(\\|U\\|\\|V\\| \\sin \\theta)^{2}\n",
    "\\end{aligned}\n",
    "$$\n",
    "\n",
    "따라서\n",
    "\n",
    "$$\n",
    "\\left\\|\\left(u_{2} v_{3}-u_{3} v_{2}\\right) i-\\left(u_{1} v_{3}-u_{3} v_{1}\\right) j+\\left(u_{1} v_{2}-u_{2} v_{1}\\right) k\\right\\|=\\|U\\|\\|V\\| \\sin \\theta\n",
    "$$\n",
    "이다.\n",
    "\n",
    "(2) 계산에 의하여 쉽게 증명할 수 있다. \n",
    "\n",
    "(3) $\\{U, V, U\\times V \\}$를 순서대로 행벡터로 하는 행렬의 행렬식이 양수임을 보인다. \n"
   ]
  },
  {
   "attachments": {},
   "cell_type": "markdown",
   "metadata": {},
   "source": [
    "![images/fig_outerproduct.png](images/fig_outerproduct.png)\n",
    "<img src=\"images/fig_outerproduct.png\" width=\"60%\">"
   ]
  },
  {
   "cell_type": "markdown",
   "metadata": {},
   "source": [
    "## $\\blacktriangleright$ Numpy 사용  "
   ]
  },
  {
   "cell_type": "markdown",
   "metadata": {},
   "source": [
    "- 행렬식"
   ]
  },
  {
   "cell_type": "code",
   "execution_count": 193,
   "metadata": {},
   "outputs": [],
   "source": [
    "import numpy as np"
   ]
  },
  {
   "cell_type": "code",
   "execution_count": 194,
   "metadata": {},
   "outputs": [
    {
     "data": {
      "text/plain": [
       "array([[ 2,  1, -1],\n",
       "       [ 4,  1,  2],\n",
       "       [ 1,  5, -2]])"
      ]
     },
     "execution_count": 194,
     "metadata": {},
     "output_type": "execute_result"
    }
   ],
   "source": [
    "B = np.array([[2,1,-1],[4,1,2],[1,5,-2]])\n",
    "B"
   ]
  },
  {
   "cell_type": "code",
   "execution_count": 195,
   "metadata": {},
   "outputs": [
    {
     "data": {
      "text/plain": [
       "-33.0"
      ]
     },
     "execution_count": 195,
     "metadata": {},
     "output_type": "execute_result"
    }
   ],
   "source": [
    "np.linalg.det(B)"
   ]
  },
  {
   "cell_type": "markdown",
   "metadata": {},
   "source": [
    "- 벡터 외적"
   ]
  },
  {
   "cell_type": "code",
   "execution_count": 196,
   "metadata": {},
   "outputs": [],
   "source": [
    "import numpy as np"
   ]
  },
  {
   "cell_type": "code",
   "execution_count": 197,
   "metadata": {},
   "outputs": [
    {
     "name": "stdout",
     "output_type": "stream",
     "text": [
      "v1 = \n",
      "[3 1 4]\n",
      "v2 =\n",
      "[-2  5  3]\n"
     ]
    }
   ],
   "source": [
    "v1 = np.array([3,1,4])\n",
    "v2 = np.array([-2,5,3])\n",
    "\n",
    "print(\"v1 = \" )\n",
    "print(v1)\n",
    "print(\"v2 =\" )\n",
    "print(v2)"
   ]
  },
  {
   "cell_type": "code",
   "execution_count": 198,
   "metadata": {},
   "outputs": [
    {
     "data": {
      "text/plain": [
       "array([-17, -17,  17])"
      ]
     },
     "execution_count": 198,
     "metadata": {},
     "output_type": "execute_result"
    }
   ],
   "source": [
    "np.cross(v1,v2)"
   ]
  },
  {
   "cell_type": "code",
   "execution_count": 199,
   "metadata": {},
   "outputs": [
    {
     "data": {
      "text/plain": [
       "numpy.ndarray"
      ]
     },
     "execution_count": 199,
     "metadata": {},
     "output_type": "execute_result"
    }
   ],
   "source": [
    "v3 = np.cross(v1,v2)\n",
    "\n",
    "type(v3)"
   ]
  },
  {
   "cell_type": "code",
   "execution_count": 200,
   "metadata": {},
   "outputs": [
    {
     "data": {
      "text/plain": [
       "array([-17, -17,  17])"
      ]
     },
     "execution_count": 200,
     "metadata": {},
     "output_type": "execute_result"
    }
   ],
   "source": [
    "v3"
   ]
  }
 ],
 "metadata": {
  "kernelspec": {
   "display_name": "Python 3",
   "language": "python",
   "name": "python3"
  },
  "language_info": {
   "codemirror_mode": {
    "name": "ipython",
    "version": 3
   },
   "file_extension": ".py",
   "mimetype": "text/x-python",
   "name": "python",
   "nbconvert_exporter": "python",
   "pygments_lexer": "ipython3",
   "version": "3.8.8"
  }
 },
 "nbformat": 4,
 "nbformat_minor": 2
}
