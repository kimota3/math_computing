{
 "cells": [
  {
   "cell_type": "code",
   "execution_count": null,
   "id": "34fc1cbb",
   "metadata": {},
   "outputs": [],
   "source": [
    "# newton 2\n",
    "\n",
    "import sympy as sp\n",
    "x=sp.Symbol('x')\n",
    "\n",
    "f=x**2-8.5\n",
    "g=sp.diff(f,x)\n",
    "\n",
    "def newton2(x_value, error):\n",
    "    y=[x_value]\n",
    "    while abs(f.subs(x,y[-1])/g.subs(x,y[-1])) > error:\n",
    "        y.append(y[-1] - f.subs(x,y[-1])/g.subs(x,y[-1]))\n",
    "    return y\n",
    "  \n",
    "a= newton2(3, 0.001)\n",
    "\n",
    "print(a)    \n",
    "\n"
   ]
  }
 ],
 "metadata": {
  "kernelspec": {
   "display_name": "Python 3",
   "language": "python",
   "name": "python3"
  },
  "language_info": {
   "codemirror_mode": {
    "name": "ipython",
    "version": 3
   },
   "file_extension": ".py",
   "mimetype": "text/x-python",
   "name": "python",
   "nbconvert_exporter": "python",
   "pygments_lexer": "ipython3",
   "version": "3.8.8"
  }
 },
 "nbformat": 4,
 "nbformat_minor": 5
}
