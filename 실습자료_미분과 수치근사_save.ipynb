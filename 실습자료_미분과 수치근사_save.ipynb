{
 "cells": [
  {
   "cell_type": "markdown",
   "id": "242efd44",
   "metadata": {},
   "source": [
    "#   Python 이용하여 미분하기"
   ]
  },
  {
   "cell_type": "markdown",
   "id": "88ead6ab",
   "metadata": {},
   "source": [
    "##  sympy 이용하기"
   ]
  },
  {
   "cell_type": "code",
   "execution_count": 46,
   "id": "da64cb52",
   "metadata": {},
   "outputs": [
    {
     "name": "stdout",
     "output_type": "stream",
     "text": [
      "f'(x)= 3*x*(x - 16)\n"
     ]
    }
   ],
   "source": [
    "import sympy as sp\n",
    "x=sp.symbols('x')\n",
    "\n",
    "f= x**3 -24*x**2 + 4\n",
    "\n",
    "print(\"f'(x)=\", sp.simplify(sp.diff(f,x)))"
   ]
  },
  {
   "cell_type": "code",
   "execution_count": 47,
   "id": "513cd152",
   "metadata": {},
   "outputs": [
    {
     "name": "stdout",
     "output_type": "stream",
     "text": [
      "g'(x)= x**2*(x/cos(x)**2 + 3*tan(x))\n"
     ]
    }
   ],
   "source": [
    "import sympy as sp\n",
    "x=sp.Symbol('x')\n",
    "\n",
    "g= x**3*sp.tan(x)\n",
    "\n",
    "print(\"g'(x)=\", sp.simplify(sp.diff(g,x)))"
   ]
  },
  {
   "cell_type": "markdown",
   "id": "b9389777",
   "metadata": {},
   "source": [
    "##  수치 근사"
   ]
  },
  {
   "cell_type": "markdown",
   "id": "a802bacf",
   "metadata": {},
   "source": [
    "###  함숫값을 위한 근사값  "
   ]
  },
  {
   "cell_type": "markdown",
   "id": "aa38c002",
   "metadata": {},
   "source": [
    "\n",
    "\n",
    "미분가능함 함수 $f(x)$에서 충분히 작은 $\\Delta x$에 대하여 \n",
    "$$\n",
    "f (x_0+\\Delta x) \\approx f(x_0) + f^{\\prime}(x_0) \\Delta x\n",
    "$$\n",
    "이다. \n",
    "\n"
   ]
  },
  {
   "cell_type": "markdown",
   "id": "b4afd7bf",
   "metadata": {},
   "source": [
    "\n",
    "#### [예제]  $\\sqrt[3]{8.1}$ 의 근삿값을 구하여라.\n",
    "\n",
    "#### 풀이 \n",
    "\n",
    "$f(x)=\\sqrt[3]{x}$ 로 놓자. 그러면\n",
    "$$\n",
    "f^{\\prime}(x)=\\frac{1}{3 x^{2 / 3}}\n",
    "$$\n",
    "이다.\n",
    "우리가 찾는 것은 $f(8.1)$ 의 근삿값이다.\n",
    "\n",
    "따라서 $x_0=8, \\Delta x=0.1$ 로 놓으면\n",
    "$$\n",
    "\\begin{aligned}\n",
    "\\sqrt[3]{8.1} &=f(8.1)=f(8+0.1) \\approx f(8)+f^{\\prime}(8) \\cdot(0.1) \\\\\n",
    "&=\\sqrt[3]{8}+\\frac{0.1}{3 \\cdot 8^{2 / 3}}=2+\\frac{1}{120} \\approx 2.0083\n",
    "\\end{aligned}\n",
    "$$\n"
   ]
  },
  {
   "cell_type": "code",
   "execution_count": 48,
   "id": "43534f92",
   "metadata": {},
   "outputs": [
    {
     "name": "stdout",
     "output_type": "stream",
     "text": [
      "2.00000000000000\n",
      "2.00833333333333\n"
     ]
    }
   ],
   "source": [
    "import sympy as sp\n",
    "x=sp.Symbol('x')\n",
    "\n",
    "fx= x**(1/3)\n",
    "gx= sp.diff(fx,x)\n",
    "\n",
    "print(fx.subs(x,8))\n",
    "\n",
    "def approx(x_value):\n",
    "    z= fx.subs(x,x_value) + gx.subs(x,x_value)*0.1\n",
    "    return z\n",
    "\n",
    "\n",
    "print(approx(8))"
   ]
  },
  {
   "cell_type": "markdown",
   "id": "7a7c5e3d",
   "metadata": {},
   "source": [
    "###  근의 근사값 - 뉴튼-라프슨 방법 \n",
    "\n",
    "$y=f(x)$ 에서  $f(x)=0$ 의 근을 $r$ 라 하여 그 근삿값을 찾아보자.\n",
    "\n",
    "- 제 1 근삿값 $a_1$:  $r$과 가까이에 있는 점 $a_{1}$ 을 하나 잡는다.  \n",
    "\n",
    "\n",
    "- 제 2 근삿값: 점 $P(a_1, f(a_1))$ 에서의 곡선에 대한 접선 $l$이 $x$축과 만나는 점의 $x$ 좌표 $a_2$.\n",
    "\n",
    "$\\vdots$\n",
    "\n",
    "\n",
    "- 제 $n$ 근삿값: 점 $P(a_{n-1}, f(a_{n-1}))$ 에서의 곡선에 대한 접선이 $x$축과 만나는 점의 $x$ 좌표 $a_n$.\n",
    "\n",
    " $a_{n}$을 계산하면\n",
    "\n",
    "$$a_{n}=a_{n-1}-\\frac{f\\left(a_{n-1}\\right)}{f^{\\prime}\\left(a_{n-1}\\right)}$$ \n",
    "이다. \n",
    "\n",
    "이렇게 하여 얻은\n",
    "$$\n",
    "a_{1}, a_{2}, a_{3}, \\cdots, a_{n}, \\cdots\n",
    "$$\n",
    "로  $r$ 에 가깝게 접근 하여 근삿값을 찾는 방법을 Newton-Raphson 방법이라 한다.\n",
    "\n",
    "\n",
    "#### [예제] $\\sqrt{8.5}$ 의 근삿값 $a_{n+1}$ 을 구하되 $\\left|a_{n+1}-a_{n}\\right|<10^{-3}$ 이 되게 하여라.\n",
    "\n",
    "#### 풀이\n",
    "\n",
    "$f(x)=x^{2}-8.5$ 라고 하자. $f(\\sqrt{8.5})=(\\sqrt{8.5})^{2}-8.5=0$ 이므로 $\\sqrt{8.5}$ 의 근삿값을 구하는 것은 $x^{2}-8.5=0$ 의 근의 근삿값을 구하는 것과 마찬가지 이다.\n",
    "제 1 근삿값을 $a_{1}=3$ 으로 잡자. $f^{\\prime}(x)=2 x$ 이므로\n",
    "$$\n",
    "\\begin{aligned}\n",
    "&a_{n}=a_{n-1}-\\frac{f\\left(a_{n-1}\\right)}{f^{\\prime}\\left(a_{n-1}\\right)}=a_{n-1}-\\frac{a_{n-1}^{2}-8.5}{2 a_{n-1}} \\\\\n",
    "&a_{n}=\\frac{a_{n-1}^{2}+8.5}{2 a_{n-1}}\n",
    "\\end{aligned}\n",
    "$$\n",
    "\n"
   ]
  },
  {
   "cell_type": "code",
   "execution_count": 49,
   "id": "b73a8543",
   "metadata": {},
   "outputs": [
    {
     "name": "stdout",
     "output_type": "stream",
     "text": [
      "2.9154761904761908\n"
     ]
    }
   ],
   "source": [
    "# newton 4\n",
    "\n",
    "import sympy as sp\n",
    "x=sp.Symbol('x')\n",
    "\n",
    "def newton4(x_value, error):\n",
    "    while abs((x_value**2-8.5)/(2*x_value)) > error:\n",
    "        x_value= x_value - (x_value**2 - 8.5)/(2*x_value)\n",
    "    return x_value\n",
    "    \n",
    "a= newton4(3, 0.0001)\n",
    "\n",
    "print(a)    "
   ]
  },
  {
   "cell_type": "code",
   "execution_count": 50,
   "id": "bc377ca8",
   "metadata": {
    "scrolled": true
   },
   "outputs": [
    {
     "name": "stdout",
     "output_type": "stream",
     "text": [
      "[3, 2.9166666666666665, 2.9154761904761908]\n"
     ]
    }
   ],
   "source": [
    "# newton 5\n",
    "\n",
    "import sympy as sp\n",
    "x=sp.Symbol('x')\n",
    "def newton5(x_value, error):\n",
    "    x=[x_value]\n",
    "    while abs((x[-1]**2 - 8.5)/(2*x[-1])) > error:\n",
    "        x.append(x[-1] - (x[-1]**2 - 8.5)/(2*x[-1]))\n",
    "    return x\n",
    "    \n",
    "a= newton5(3, 0.0001)\n",
    "\n",
    "print(a)    "
   ]
  },
  {
   "cell_type": "code",
   "execution_count": 51,
   "id": "b320b40f",
   "metadata": {
    "scrolled": true
   },
   "outputs": [
    {
     "name": "stdout",
     "output_type": "stream",
     "text": [
      "2.91547619047619\n"
     ]
    }
   ],
   "source": [
    "# newton 1\n",
    "\n",
    "import sympy as sp\n",
    "x=sp.symbols('x')\n",
    "\n",
    "f=x**2-8.5\n",
    "g=sp.diff(f,x)\n",
    "\n",
    "def newton1(x_value, error):\n",
    "    while abs(f.subs(x,x_value)/(g.subs(x,x_value))) > error:\n",
    "        x_value = x_value - f.subs(x,x_value)/g.subs(x,x_value)\n",
    "    return x_value\n",
    "    \n",
    "a= newton1(3, 0.0001)\n",
    "\n",
    "print(a)    "
   ]
  },
  {
   "cell_type": "markdown",
   "id": "0d6e8d39",
   "metadata": {},
   "source": [
    "[예제] 위 newton 1 을  newton 5 처럼 계산 과정을 출력하도록 변형하여라. \n"
   ]
  }
 ],
 "metadata": {
  "kernelspec": {
   "display_name": "Python 3",
   "language": "python",
   "name": "python3"
  },
  "language_info": {
   "codemirror_mode": {
    "name": "ipython",
    "version": 3
   },
   "file_extension": ".py",
   "mimetype": "text/x-python",
   "name": "python",
   "nbconvert_exporter": "python",
   "pygments_lexer": "ipython3",
   "version": "3.8.8"
  }
 },
 "nbformat": 4,
 "nbformat_minor": 5
}
